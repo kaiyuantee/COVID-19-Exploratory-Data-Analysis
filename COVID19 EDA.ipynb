{
 "cells": [
  {
   "cell_type": "code",
   "execution_count": 1,
   "metadata": {},
   "outputs": [
    {
     "name": "stderr",
     "output_type": "stream",
     "text": [
      "Cloning into 'COVID-19'...\n",
      "Updating files: 100% (329/329), done.\n"
     ]
    }
   ],
   "source": [
    "%%bash\n",
    "git clone https://github.com/CSSEGISandData/COVID-19.git\n",
    "cp ~/Downloads/Downloads/for\\ jupyter/forcovid/COVID-19/csse_covid_19_data/csse_covid_19_time_series/time_series_covid19_recovered_global.csv ~/Downloads/Downloads/for\\ jupyter/forcovid/\n",
    "cp ~/Downloads/Downloads/for\\ jupyter/forcovid/COVID-19/csse_covid_19_data/csse_covid_19_time_series/time_series_covid19_deaths_global.csv ~/Downloads/Downloads/for\\ jupyter/forcovid/\n",
    "cp ~/Downloads/Downloads/for\\ jupyter/forcovid/COVID-19/csse_covid_19_data/csse_covid_19_time_series/time_series_covid19_confirmed_global.csv ~/Downloads/Downloads/for\\ jupyter/forcovid/"
   ]
  },
  {
   "cell_type": "code",
   "execution_count": 2,
   "metadata": {},
   "outputs": [],
   "source": [
    "# raw data from JHU\n",
    "# make it whole\n",
    "# import libraries\n",
    "\n",
    "import pandas as pd\n",
    "import numpy as np\n",
    "import plotly.express as px\n",
    "import plotly.io as pio\n",
    "import warnings\n",
    "from random import shuffle\n",
    "warnings.simplefilter('ignore')\n",
    "pio.templates.default = \"plotly_dark\"\n",
    "pio.renderers.default = \"notebook_connected\"\n",
    "\n",
    "con = pd.read_csv('time_series_covid19_confirmed_global.csv')\n",
    "con.drop(['Lat','Long'],axis=1,inplace=True)\n",
    "con = con.melt(id_vars=['Province/State','Country/Region'],var_name='Date',value_name='ConfirmedCases')\n",
    "con['Date'] = pd.to_datetime(con.Date)\n",
    "dea = pd.read_csv('time_series_covid19_deaths_global.csv')\n",
    "dea.drop(['Lat','Long'],axis=1,inplace=True)\n",
    "dea = dea.melt(id_vars=['Province/State','Country/Region'],var_name='Date',value_name='Fatalities')\n",
    "dea['Date'] = pd.to_datetime(dea.Date)\n",
    "rec = pd.read_csv('time_series_covid19_recovered_global.csv')\n",
    "rec.drop(['Lat','Long'],axis=1,inplace=True)\n",
    "rec = rec.melt(id_vars=['Province/State','Country/Region'],var_name='Date',value_name='Recovered')\n",
    "rec['Date'] = pd.to_datetime(rec.Date)\n",
    "full = con.merge(dea, on=['Province/State','Country/Region','Date'], how='left')\n",
    "full = full.merge(rec, on=['Province/State','Country/Region','Date'], how='left')\n",
    "full['Active'] = full.ConfirmedCases -full.Fatalities - full.Recovered"
   ]
  },
  {
   "cell_type": "code",
   "execution_count": 3,
   "metadata": {},
   "outputs": [],
   "source": [
    "# minor processing\n",
    "# all kinds of lists\n",
    "countries =        ['US','Italy','Spain','China','Germany','Iran']\n",
    "europe_countries = ['Austria','Belgium','Bulgaria','Croatia','Cyprus','Czechia','Denmark','Estonia','Finland','France','Germany','Greece','Hungary','Ireland',\n",
    "                    'Italy', 'Latvia','Luxembourg','Lithuania','Malta','Norway','Netherlands','Poland','Portugal','Romania','Slovakia','Slovenia',\n",
    "                    'Spain', 'Sweden', 'United Kingdom', 'Iceland', 'Russia', 'Switzerland', 'Serbia', 'Ukraine', 'Belarus',\n",
    "                    'Albania', 'Bosnia and Herzegovina', 'Kosovo', 'Moldova', 'Montenegro', 'North Macedonia']\n",
    "# states =           {'Alabama': 'AL','Alaska': 'AK','American Samoa': 'AS','Arizona': 'AZ','Arkansas': 'AR','California': 'CA',\n",
    "#                     'Colorado': 'CO','Connecticut': 'CT','Delaware': 'DE','District of Columbia': 'DC','Florida': 'FL',\n",
    "#                     'Georgia': 'GA','Guam': 'GU','Hawaii': 'HI','Idaho': 'ID','Illinois': 'IL','Indiana': 'IN','Iowa': 'IA','Kansas': 'KS',\n",
    "#                     'Kentucky': 'KY', 'Louisiana': 'LA','Maine': 'ME','Maryland': 'MD','Massachusetts': 'MA','Michigan': 'MI','Minnesota': 'MN','Mississippi': 'MS',\n",
    "#                     'Missouri': 'MO','Montana': 'MT','Nebraska': 'NE','Nevada': 'NV','New Hampshire': 'NH','New Jersey': 'NJ','New Mexico': 'NM',\n",
    "#                     'New York': 'NY','North Carolina': 'NC','North Dakota': 'ND','Northern Mariana Islands':'MP','Ohio': 'OH','Oklahoma': 'OK',\n",
    "#                     'Oregon': 'OR','Pennsylvania': 'PA','Puerto Rico': 'PR','Rhode Island': 'RI','South Carolina': 'SC','South Dakota': 'SD',\n",
    "#                     'Tennessee': 'TN','Texas': 'TX','Utah': 'UT','Vermont': 'VT','Virgin Islands': 'VI','Virginia': 'VA','Washington': 'WA',\n",
    "#                     'West Virginia': 'WV','Wisconsin': 'WI','Wyoming': 'WY'}\n",
    "list1 = []\n",
    "\n",
    "# grouped data preparation\n",
    "\n",
    "globalall = full.groupby('Date').agg({'ConfirmedCases':'sum',\n",
    "                                       'Fatalities':'sum',\n",
    "                                       'Recovered':'sum',\n",
    "                                       'Active':'sum'}).reset_index()\n",
    "\n",
    "\n",
    "\n",
    "rest = full[~full['Country/Region'].isin(countries)].groupby('Date').agg({'ConfirmedCases':'sum',\n",
    "                                                                            'Fatalities':'sum',\n",
    "                                                                            'Recovered':'sum',\n",
    "                                                                            'Active':'sum'}).reset_index()\n",
    "\n",
    "\n",
    "# for i in countries:\n",
    "#     list1.append(full[full['Country/Region']==str(i)].groupby('Date').agg({'ConfirmedCases':'sum',\n",
    "#                                                                              'Fatalities':'sum',\n",
    "#                                                                              'Recovered':'sum',\n",
    "#                                                                              'Active':'sum'}).reset_index())\n",
    "\n",
    "world = full[full.Date==full.Date.max()].groupby('Country/Region').agg({'ConfirmedCases':'sum',\n",
    "                                                                           'Fatalities':'sum',\n",
    "                                                                           'Recovered':'sum',\n",
    "                                                                           'Active':'sum'}).reset_index()\n",
    "world['MortalityRate'] = np.round((world.Fatalities/world.ConfirmedCases)*100,2)\n",
    "world['RecoveryRate'] = np.round((world.Recovered/world.ConfirmedCases)*100,2)\n",
    "\n",
    "\n",
    "europe = world[world['Country/Region'].isin(europe_countries)]\n",
    "\n",
    "# us = full[(full['Country/Region']=='US') &(full.Date==full.Date.max()) ].groupby('Province/State').agg({'ConfirmedCases':'sum',\n",
    "#                                                                                                             'Fatalities':'sum',\n",
    "#                                                                                                             'Recovered':'sum',\n",
    "#                                                                                                             'Active':'sum'}).reset_index()\n",
    "# us.replace({'Province/State':states},\n",
    "#            inplace=True)\n",
    "\n",
    "tempo = globalall.melt(id_vars='Date', value_vars=['Recovered',\n",
    "                                                   'Fatalities',\n",
    "                                                   'Active'],\n",
    "                       var_name='cases',value_name='count')\n",
    "\n",
    "withoutchina = full[full['Country/Region']!='China'].groupby('Date').agg({'Fatalities':'sum',\n",
    "                                                                            'Recovered':'sum',\n",
    "                                                                            'Active':'sum'}).reset_index()\n",
    "\n",
    "tempo2 = withoutchina.melt(id_vars='Date',value_vars=['Recovered',\n",
    "                                                      'Fatalities',\n",
    "                                                      'Active'],var_name='cases',\n",
    "                           value_name='count')\n",
    "\n",
    "tempo3 = world[world.ConfirmedCases > 100]"
   ]
  },
  {
   "cell_type": "markdown",
   "metadata": {},
   "source": [
    "# **Time Lapse Of Events**"
   ]
  },
  {
   "cell_type": "code",
   "execution_count": null,
   "metadata": {},
   "outputs": [],
   "source": [
    "newgroup = full.groupby(['Date','Country/Region']).agg({'ConfirmedCases':'sum','Fatalities':'sum','Recovered':'sum'}).reset_index()\n",
    "newgroup['Date'] = newgroup.Date.dt.strftime('%d/%m/%Y')\n",
    "newgroup['csize'] = newgroup['ConfirmedCases'].pow(0.3)\n",
    "newgroup['fsize'] = newgroup['Fatalities'].pow(0.3)\n",
    "newgroup['rsize'] = newgroup['Recovered'].pow(0.3)\n",
    "f1 = px.scatter_geo(newgroup,locations='Country/Region',locationmode='country names', color='ConfirmedCases',\n",
    "              size='csize', hover_name='Country/Region', range_color=[1,600000], projection='natural earth',\n",
    "              animation_frame='Date',title='COVID-19: Spread Over The Globe Over Time', color_continuous_scale='portland')\n",
    "\n",
    "f2 = px.scatter_geo(newgroup,locations='Country/Region',locationmode='country names', color='Fatalities',\n",
    "              size='fsize', hover_name='Country/Region', range_color=[1,40000], projection='natural earth',\n",
    "              animation_frame='Date',title='COVID-19: Fatalities Over The Globe Over Time', color_continuous_scale='peach')\n",
    "f3 = px.scatter_geo(newgroup,locations='Country/Region',locationmode='country names', color='Recovered',\n",
    "              size='rsize', hover_name='Country/Region', range_color=[1,100000], projection='natural earth',\n",
    "              animation_frame='Date',title='COVID-19: Recoverey Over The Globe Over Time', color_continuous_scale='greens')\n",
    "f1.show()\n",
    "f2.show()\n",
    "f3.show()"
   ]
  },
  {
   "cell_type": "markdown",
   "metadata": {},
   "source": [
    "# **Confirmed Cases**"
   ]
  },
  {
   "cell_type": "markdown",
   "metadata": {},
   "source": [
    "## **1.1 Worldwide Confirmed Cases**"
   ]
  },
  {
   "cell_type": "code",
   "execution_count": null,
   "metadata": {},
   "outputs": [],
   "source": [
    "f1 = px.line(globalall, x='Date', y='ConfirmedCases', title='Worldwide Confirmed Cases Over Time')\n",
    "f2 = px.line(globalall, x='Date',y='ConfirmedCases',title='Worldwide Confirmed Cases Over Time In Logarithmic Scale',log_y=True)\n",
    "f1.show()\n",
    "f2.show()"
   ]
  },
  {
   "cell_type": "markdown",
   "metadata": {},
   "source": [
    "## **1.2 Confirmed Cases Over Time By Countries**"
   ]
  },
  {
   "cell_type": "code",
   "execution_count": null,
   "metadata": {},
   "outputs": [],
   "source": [
    "#shuffle(px.colors.sequential.Plasma)\n",
    "# for j,k,l in zip(list1,countries,px.colors.sequential.Plasma):\n",
    "#     fig = px.line(j,x='Date',y='ConfirmedCases',title=f'Confirmed Cases in {k} Over Time',\n",
    "#                   color_discrete_sequence=[l],height=500)\n",
    "#     fig.show()\n",
    "confirmed = full.groupby(['Country/Region','Date'])[['ConfirmedCases']].sum().reset_index()\n",
    "fig1=px.line(confirmed[confirmed['Country/Region'].isin(countries)], x='Date',y='ConfirmedCases',color='Country/Region',title='Confirmed Cases Among The Top Countries',height=800)\n",
    "fig2=px.line(confirmed[confirmed['Country/Region'].isin(countries)], x='Date',y='ConfirmedCases',color='Country/Region',title='Confirmed Cases Among The Top Countries In Logarithmic Scale',log_y=True,height=800)\n",
    "fig3 = px.line(rest,x='Date',y='ConfirmedCases',title='Confirmed Cases in Rest Of The World Over Time',\n",
    "                  color_discrete_sequence=['#91C4F2'],height=500)\n",
    "fig1.show()\n",
    "fig2.show()\n",
    "fig3.show()"
   ]
  },
  {
   "cell_type": "markdown",
   "metadata": {},
   "source": [
    "## **1.3 Shown in World Map**"
   ]
  },
  {
   "cell_type": "code",
   "execution_count": null,
   "metadata": {},
   "outputs": [],
   "source": [
    "px.choropleth(world, locations='Country/Region', locationmode='country names',color='ConfirmedCases',\n",
    "             hover_name='Country/Region',range_color=[1,400000],color_continuous_scale='peach',\n",
    "             title='Countries With Confirmed Cases')"
   ]
  },
  {
   "cell_type": "markdown",
   "metadata": {},
   "source": [
    "## **1.4 Shown in Europe**"
   ]
  },
  {
   "cell_type": "code",
   "execution_count": null,
   "metadata": {},
   "outputs": [],
   "source": [
    "px.choropleth(europe, locations='Country/Region', locationmode='country names',color='ConfirmedCases',\n",
    "             hover_name='Country/Region',range_color=[1,200000],color_continuous_scale='portland', scope='europe',\n",
    "             title='European Countries With Confirmed Cases', height=700)"
   ]
  },
  {
   "cell_type": "markdown",
   "metadata": {},
   "source": [
    "<!-- ## **1.5 Shown in United States** -->"
   ]
  },
  {
   "cell_type": "code",
   "execution_count": null,
   "metadata": {},
   "outputs": [],
   "source": [
    "# px.choropleth(us, locations='Province/State', locationmode='USA-states',color='ConfirmedCases',\n",
    "#               range_color=[1,3000],color_continuous_scale='reds', scope='usa',\n",
    "#              title='United States With Confirmed Cases', height=700)"
   ]
  },
  {
   "cell_type": "markdown",
   "metadata": {},
   "source": [
    "## **1.5 Shown in Bar Chart**"
   ]
  },
  {
   "cell_type": "code",
   "execution_count": null,
   "metadata": {},
   "outputs": [],
   "source": [
    "f1 = px.bar(world.sort_values('ConfirmedCases',ascending=False)[:20][::-1],x='ConfirmedCases',\n",
    "            y='Country/Region',title='Confirmed Cases Globally',height=1000, orientation='h',text='ConfirmedCases')\n",
    "f2 = px.bar(europe.sort_values('ConfirmedCases',ascending=False)[:20][::-1],x='ConfirmedCases',\n",
    "           y='Country/Region', title='Confirmed Cases in Europe Countries',height=1000, orientation='h', text='ConfirmedCases',\n",
    "           color_discrete_sequence=['#84DCC6'])\n",
    "# f3 = px.bar(us.sort_values('ConfirmedCases',ascending=False)[:20][::-1],x='ConfirmedCases',\n",
    "#            y='Province/State', title='Confirmed Cases in United States',height=1000, orientation='h', text='ConfirmedCases',\n",
    "#            color_discrete_sequence=['#D63230'])\n",
    "f1.show()\n",
    "f2.show()\n",
    "#f3.show()"
   ]
  },
  {
   "cell_type": "markdown",
   "metadata": {},
   "source": [
    "# **Fatalities**"
   ]
  },
  {
   "cell_type": "markdown",
   "metadata": {},
   "source": [
    "## **2.1 Confirmed Fatalities Globally**"
   ]
  },
  {
   "cell_type": "code",
   "execution_count": null,
   "metadata": {},
   "outputs": [],
   "source": [
    "f1 = px.line(globalall, x='Date',y='Fatalities',title='Confirmed Fatalities Globally'\n",
    "             ,color_discrete_sequence=['#F42272'])\n",
    "f2 = px.line(globalall, x='Date',y='Fatalities',title='Confirmed Fatalities Globally In Logarithmic Scale'\n",
    "             ,color_discrete_sequence=['#F42272'],log_y=True)\n",
    "f1.show()\n",
    "f2.show()"
   ]
  },
  {
   "cell_type": "markdown",
   "metadata": {},
   "source": [
    "## **2.2 Fatalities By Countries**"
   ]
  },
  {
   "cell_type": "code",
   "execution_count": null,
   "metadata": {},
   "outputs": [],
   "source": [
    "# shuffle(px.colors.sequential.Plasma)\n",
    "\n",
    "# for j,k,l in zip(list1,countries,px.colors.sequential.Plasma):\n",
    "#     fig = px.line(j,x='Date',y='Fatalities',title=f'Fatalities in {k} Over Time',\n",
    "#                   color_discrete_sequence=[l],height=500)\n",
    "#     fig.show()\n",
    "fatal = full.groupby(['Country/Region','Date'])[['Fatalities']].sum().reset_index()\n",
    "fig1 = px.line(fatal[fatal['Country/Region'].isin(countries)], x='Date',y='Fatalities',title='Fatalities Among The Top Countries',color='Country/Region',height=800)\n",
    "fig2 = px.line(fatal[fatal['Country/Region'].isin(countries)], x='Date',y='Fatalities',title='Fatalities Among The Top Countries In Logarithmic Scale',color='Country/Region',height=800,log_y=True)\n",
    "\n",
    "fig3 = px.line(rest,x='Date',y='Fatalities',title='Fatalities in Rest Of The World Over Time',\n",
    "                  color_discrete_sequence=['#91C4F2'],height=500)\n",
    "fig1.show()\n",
    "fig2.show()\n",
    "fig3.show()\n"
   ]
  },
  {
   "cell_type": "markdown",
   "metadata": {},
   "source": [
    "## **2.3 Shown In Worldmap**"
   ]
  },
  {
   "cell_type": "code",
   "execution_count": null,
   "metadata": {},
   "outputs": [],
   "source": [
    "px.choropleth(world,locations='Country/Region',locationmode='country names',color='Fatalities',\n",
    "             hover_name='Fatalities',range_color=[1,40000], color_continuous_scale='peach',\n",
    "             title='Countries With Reported Fatalities')"
   ]
  },
  {
   "cell_type": "markdown",
   "metadata": {},
   "source": [
    "## **2.4 Shown In Europe**"
   ]
  },
  {
   "cell_type": "code",
   "execution_count": null,
   "metadata": {},
   "outputs": [],
   "source": [
    "px.choropleth(europe, locations='Country/Region', locationmode='country names',color='Fatalities',\n",
    "             hover_name='Country/Region',range_color=[1,20000],color_continuous_scale='portland', scope='europe',\n",
    "             title='European Countries With Confirmed Cases', height=700)"
   ]
  },
  {
   "cell_type": "markdown",
   "metadata": {},
   "source": [
    "## **2.5 Shown In United States** "
   ]
  },
  {
   "cell_type": "code",
   "execution_count": null,
   "metadata": {},
   "outputs": [],
   "source": [
    "# px.choropleth(us, locations='Province/State', locationmode='USA-states',color='Fatalities',\n",
    "#               range_color=[1,100],color_continuous_scale='reds', scope='usa',\n",
    "#               title='United States With Confirmed Cases', height=700)"
   ]
  },
  {
   "cell_type": "markdown",
   "metadata": {},
   "source": [
    "## **2.6 Shown In Bar Chart**"
   ]
  },
  {
   "cell_type": "code",
   "execution_count": null,
   "metadata": {},
   "outputs": [],
   "source": [
    "f1 = px.bar(world.sort_values('Fatalities',ascending=False)[:20][::-1],x='Fatalities',\n",
    "            y='Country/Region',title='Confirmed Fatalities Globally',height=1000, orientation='h',text='Fatalities')\n",
    "f2 = px.bar(europe.sort_values('Fatalities',ascending=False)[:20][::-1],x='Fatalities',\n",
    "           y='Country/Region', title='Confirmed Fatalities in Europe Countries',height=1000, orientation='h', text='Fatalities',\n",
    "           color_discrete_sequence=['#84DCC6'])\n",
    "# f3 = px.bar(us.sort_values('Fatalities',ascending=False)[:20][::-1],x='Fatalities',\n",
    "#            y='Province/State', title='Confirmed Fatalities in United States',height=1000, orientation='h', text='Fatalities',\n",
    "#            color_discrete_sequence=['#D63230'])\n",
    "f1.show()\n",
    "f2.show()\n",
    "#f3.show()"
   ]
  },
  {
   "cell_type": "markdown",
   "metadata": {},
   "source": [
    "# **Recovered**"
   ]
  },
  {
   "cell_type": "markdown",
   "metadata": {},
   "source": [
    "## **3.1 Recovered Cases Worldwide**"
   ]
  },
  {
   "cell_type": "code",
   "execution_count": null,
   "metadata": {},
   "outputs": [],
   "source": [
    "f1 = px.bar(world.sort_values('Recovered',ascending=False)[:20][::-1],x='Recovered',\n",
    "            y='Country/Region',title='Confirmed Recovered Cases Globally',height=1000, orientation='h',text='Recovered')\n",
    "f2 = px.bar(europe.sort_values('Recovered',ascending=False)[:20][::-1],x='Recovered',\n",
    "           y='Country/Region', title='Confirmed Recovered in Europe Cases Countries',height=1000, orientation='h', text='Recovered',\n",
    "           color_discrete_sequence=['#84DCC6'])\n",
    "\n",
    "f1.show()\n",
    "f2.show()"
   ]
  },
  {
   "cell_type": "markdown",
   "metadata": {},
   "source": [
    "## **3.2 Recoveries In Countries**"
   ]
  },
  {
   "cell_type": "code",
   "execution_count": null,
   "metadata": {},
   "outputs": [],
   "source": [
    "reco = full.groupby(['Country/Region','Date'])[['Recovered']].sum().reset_index()\n",
    "fig1=px.line(reco[reco['Country/Region'].isin(countries)],x='Date',y='Recovered',title='Recoveries Among The Top Countries',height=800,color='Country/Region')\n",
    "fig2=px.line(reco[reco['Country/Region'].isin(countries)],x='Date',y='Recovered',title='Recoveries Among The Top Countries In Logarithmic Scale',height=800,color='Country/Region',log_y=True)\n",
    "fig1.show()\n",
    "fig2.show()"
   ]
  },
  {
   "cell_type": "markdown",
   "metadata": {},
   "source": [
    "# **Active Cases**"
   ]
  },
  {
   "cell_type": "markdown",
   "metadata": {},
   "source": [
    "## **4.1 Shown in Bar Chart**"
   ]
  },
  {
   "cell_type": "code",
   "execution_count": null,
   "metadata": {},
   "outputs": [],
   "source": [
    "f1 = px.bar(world.sort_values('Active',ascending=False)[:20][::-1],x='Active',\n",
    "            y='Country/Region',title='Confirmed Active Cases Globally',height=1000, orientation='h',text='Active')\n",
    "f2 = px.bar(europe.sort_values('Active',ascending=False)[:20][::-1],x='Active',\n",
    "           y='Country/Region', title='Confirmed Active Cases in Europe Countries',height=1000, orientation='h', text='Active',\n",
    "           color_discrete_sequence=['#84DCC6'])\n",
    "\n",
    "f1.show()\n",
    "f2.show()"
   ]
  },
  {
   "cell_type": "markdown",
   "metadata": {},
   "source": [
    "# **Comparison Between Cases**"
   ]
  },
  {
   "cell_type": "markdown",
   "metadata": {},
   "source": [
    "## **5.1 Worldwide Cases**"
   ]
  },
  {
   "cell_type": "code",
   "execution_count": null,
   "metadata": {},
   "outputs": [],
   "source": [
    "f1=px.line(tempo,x='Date',y='count',color='cases',title='Cases Over Time: Line Plot',\n",
    "           color_discrete_sequence=['cyan','red','orange'])\n",
    "f2=px.area(tempo, x=\"Date\", y=\"count\", color='cases',title='Cases Over Time: Area Plot', \n",
    "           color_discrete_sequence = ['cyan', 'red', 'orange'])\n",
    "f1.show()\n",
    "f2.show()"
   ]
  },
  {
   "cell_type": "markdown",
   "metadata": {},
   "source": [
    "## **5.2 Excluding China Cases**"
   ]
  },
  {
   "cell_type": "code",
   "execution_count": null,
   "metadata": {},
   "outputs": [],
   "source": [
    "f1=px.line(tempo2,x='Date',y='count',color='cases',title='Cases Over Time (Without China): Line Plot',\n",
    "           color_discrete_sequence=['cyan','red','orange'])\n",
    "f2=px.area(tempo2, x=\"Date\", y=\"count\", color='cases',title='Cases Over Time (Without China): Area Plot', \n",
    "           color_discrete_sequence = ['cyan', 'red', 'orange'])\n",
    "f1.show()\n",
    "f2.show()"
   ]
  },
  {
   "cell_type": "markdown",
   "metadata": {},
   "source": [
    "# **Mortality And Recovery Rates**"
   ]
  },
  {
   "cell_type": "code",
   "execution_count": null,
   "metadata": {},
   "outputs": [],
   "source": [
    "f1=px.bar(tempo3.sort_values('MortalityRate', ascending=False)[:10][::-1],\n",
    "        x = 'MortalityRate', y = 'Country/Region', \n",
    "        title='Highest Fatality Rate 100 Confirmed Cases', text='MortalityRate', height=800, orientation='h',\n",
    "        color_discrete_sequence=['darkred'])\n",
    "\n",
    "f2=px.bar(tempo3.sort_values('RecoveryRate', ascending=False)[:10][::-1],\n",
    "        x = 'RecoveryRate', y = 'Country/Region', \n",
    "        title='Highest Recovery Rate 100 Confirmed Cases', text='RecoveryRate', height=800, orientation='h',\n",
    "        color_discrete_sequence=['#2ca02c'])\n",
    "\n",
    "f1.show()\n",
    "f2.show()"
   ]
  }
 ],
 "metadata": {
  "kernelspec": {
   "display_name": "Python 3",
   "language": "python",
   "name": "python3"
  },
  "language_info": {
   "codemirror_mode": {
    "name": "ipython",
    "version": 3
   },
   "file_extension": ".py",
   "mimetype": "text/x-python",
   "name": "python",
   "nbconvert_exporter": "python",
   "pygments_lexer": "ipython3",
   "version": "3.8.2"
  }
 },
 "nbformat": 4,
 "nbformat_minor": 4
}
